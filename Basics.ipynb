{
 "cells": [
  {
   "cell_type": "markdown",
   "metadata": {},
   "source": [
    "# Introduction To The Dataset"
   ]
  },
  {
   "cell_type": "markdown",
   "metadata": {},
   "source": [
    "* Read the CSV file \"US_births_1994-2003_CDC_NCHS.csv\" into a string.\n",
    "* Split the string on the newline character (\"\\n\").\n",
    "* Display the first 10 values in the resulting list."
   ]
  },
  {
   "cell_type": "code",
   "execution_count": 7,
   "metadata": {
    "collapsed": true
   },
   "outputs": [],
   "source": [
    "csv = open('US_births_1994-2003_CDC_NCHS.csv','r').read().split('\\n')"
   ]
  },
  {
   "cell_type": "code",
   "execution_count": 8,
   "metadata": {
    "collapsed": false
   },
   "outputs": [
    {
     "data": {
      "text/plain": [
       "['year,month,date_of_month,day_of_week,births',\n",
       " '1994,1,1,6,8096',\n",
       " '1994,1,2,7,7772',\n",
       " '1994,1,3,1,10142',\n",
       " '1994,1,4,2,11248',\n",
       " '1994,1,5,3,11053',\n",
       " '1994,1,6,4,11406',\n",
       " '1994,1,7,5,11251',\n",
       " '1994,1,8,6,8653',\n",
       " '1994,1,9,7,7910']"
      ]
     },
     "execution_count": 8,
     "metadata": {},
     "output_type": "execute_result"
    }
   ],
   "source": [
    "csv[:10]"
   ]
  },
  {
   "cell_type": "markdown",
   "metadata": {},
   "source": [
    "# Converting Data Into A List of Lists\n",
    "## Instructions\n",
    "* Create a function named read_csv() that:\n",
    "    - Takes a single, required argument, a string representing the file name of the CSV file.\n",
    "    - Reads the file into a string, splits the string on the newline character (\"\\n\"), and removes the header row. Assign this list to string_list and create an empty list named final_list.\n",
    "    - Uses a for loop to:\n",
    "        + Iterate over string_list,\n",
    "        + Create an empty list named int_fields,\n",
    "        + Splits each row on the comma delimiter (,) and assigns the resulting list to string_fields,\n",
    "        + Converts each value in string_fields to an integer and appends to int_fields,\n",
    "        + Appends int_fields to final_list.\n",
    "* Returns final_list."
   ]
  },
  {
   "cell_type": "code",
   "execution_count": 1,
   "metadata": {
    "collapsed": true
   },
   "outputs": [],
   "source": [
    "def read_csv(string_csv_file):\n",
    "    split = open(string_csv_file,'r').read().split('\\n')\n",
    "    string_list = split[1:len(split)]\n",
    "    final_list = []\n",
    "    \n",
    "    for element in string_list:\n",
    "        int_fields = []\n",
    "        string_fields = element.split(',')\n",
    "        for each in string_fields:\n",
    "            str_integer = int(each)\n",
    "            int_fields.append(str_integer)\n",
    "        final_list.append(int_fields)  # indentation here is important!!!\n",
    "    return final_list\n",
    "\n",
    "        \n",
    "        \n",
    "    "
   ]
  },
  {
   "cell_type": "code",
   "execution_count": 29,
   "metadata": {
    "collapsed": false
   },
   "outputs": [],
   "source": [
    "#### TESTING CODE HERE // SCRATCHPAD ####\n",
    "# test = open('US_births_1994-2003_CDC_NCHS.csv','r').read().split('\\n')\n",
    "# test_list = test[1:len(test)]\n",
    "# #print(test_list)\n",
    "# the_final_list = []\n",
    "# for element in test_list:\n",
    "#     integer_test_fields = []\n",
    "#     test_fields = element.split(',')\n",
    "#     #print(test_fields)\n",
    "#     for each in test_fields:\n",
    "#         integer_test = int(each)\n",
    "#         integer_test_fields.append(integer_test)\n",
    "#         the_final_list.append(integer_test_fields)\n",
    "#     return the_final_list\n",
    "        \n",
    "        \n",
    "    "
   ]
  },
  {
   "cell_type": "markdown",
   "metadata": {},
   "source": [
    "* Use the read_csv() function to read in the file \"US_births_1994-2003_CDC_NCHS.csv\" and assign the result to cdc_list."
   ]
  },
  {
   "cell_type": "code",
   "execution_count": 2,
   "metadata": {
    "collapsed": false
   },
   "outputs": [],
   "source": [
    "cdc_list = read_csv('US_births_1994-2003_CDC_NCHS.csv')"
   ]
  },
  {
   "cell_type": "markdown",
   "metadata": {},
   "source": [
    "* Display the first 10 rows of cdc_list to confirm it's a list of lists, containing only integer values, and no header row."
   ]
  },
  {
   "cell_type": "code",
   "execution_count": 3,
   "metadata": {
    "collapsed": false,
    "scrolled": true
   },
   "outputs": [
    {
     "data": {
      "text/plain": [
       "[[1994, 1, 1, 6, 8096],\n",
       " [1994, 1, 2, 7, 7772],\n",
       " [1994, 1, 3, 1, 10142],\n",
       " [1994, 1, 4, 2, 11248],\n",
       " [1994, 1, 5, 3, 11053],\n",
       " [1994, 1, 6, 4, 11406],\n",
       " [1994, 1, 7, 5, 11251],\n",
       " [1994, 1, 8, 6, 8653],\n",
       " [1994, 1, 9, 7, 7910],\n",
       " [1994, 1, 10, 1, 10498]]"
      ]
     },
     "execution_count": 3,
     "metadata": {},
     "output_type": "execute_result"
    }
   ],
   "source": [
    "cdc_list[:10]"
   ]
  },
  {
   "cell_type": "markdown",
   "metadata": {},
   "source": [
    "#  Calculating Number Of Births Each Month"
   ]
  },
  {
   "cell_type": "markdown",
   "metadata": {},
   "source": [
    "* Create a function named month_births() that:\n",
    "    - Takes a single, required argument, a list of lists.\n",
    "    - Creates an empty dictionary, births_per_month, to store the monthly totals.\n",
    "    - Uses a for loop to:\n",
    "        + Iterate over the list of lists,\n",
    "        + Extract the value in the month and births columns,\n",
    "        + If the month value already exists as a key in births_per_month, the births value is added to the existing value,\n",
    "        + If the month value doesn't exist as a key in births_per_month, it's created and the associated value is the births value.\n",
    "    - After the loop, return the births_per_month dictionary."
   ]
  },
  {
   "cell_type": "code",
   "execution_count": 8,
   "metadata": {
    "collapsed": false
   },
   "outputs": [],
   "source": [
    "def month_births(list_of_lists):\n",
    "    births_per_month = {}\n",
    "    \n",
    "    for element in list_of_lists:\n",
    "        # second element is month (index 1)\n",
    "        month = element[1]\n",
    "        # fifth element is births (index 4)\n",
    "        births = element[4]\n",
    "        if month in births_per_month:\n",
    "            births_per_month[month] = births_per_month[month] + births\n",
    "        else:\n",
    "            births_per_month[month] = births\n",
    "    return births_per_month\n",
    "        "
   ]
  },
  {
   "cell_type": "markdown",
   "metadata": {},
   "source": [
    "* Use the month_births() function to calculate the monthly totals for the dataset and assign the result to cdc_month_births. Display the dictionary."
   ]
  },
  {
   "cell_type": "code",
   "execution_count": 9,
   "metadata": {
    "collapsed": false
   },
   "outputs": [
    {
     "name": "stdout",
     "output_type": "stream",
     "text": [
      "{1: 3232517, 2: 3018140, 3: 3322069, 4: 3185314, 5: 3350907, 6: 3296530, 7: 3498783, 8: 3525858, 9: 3439698, 10: 3378814, 11: 3171647, 12: 3301860}\n"
     ]
    }
   ],
   "source": [
    "cdc_month_births = month_births(cdc_list)\n",
    "print(cdc_month_births)"
   ]
  },
  {
   "cell_type": "markdown",
   "metadata": {},
   "source": [
    "# Calculating Number Of Births Each Day Of Week"
   ]
  },
  {
   "cell_type": "markdown",
   "metadata": {},
   "source": [
    "* Create a function named dow_births() that takes a single, required argument (a list of lists) and returns a dictionary containing the total number of births for each unique value of the day_of_week column.\n"
   ]
  },
  {
   "cell_type": "code",
   "execution_count": 10,
   "metadata": {
    "collapsed": true
   },
   "outputs": [],
   "source": [
    "def dow_births(list_of_lists):\n",
    "    # dictionary is --> {day_of_week: number_of_births}\n",
    "    births_per_day_of_week = {}\n",
    "    \n",
    "    for element in list_of_lists:\n",
    "        # 4th element is day_of_week (index 3)\n",
    "        day = element[3]\n",
    "        # 5th element is births (index 4)\n",
    "        births = element[4]\n",
    "        if day in births_per_day_of_week:\n",
    "            births_per_day_of_week[day] = births_per_day_of_week[day] + births\n",
    "        else:\n",
    "            births_per_day_of_week[day] = births\n",
    "    return births_per_day_of_week\n",
    "            \n",
    "        "
   ]
  },
  {
   "cell_type": "markdown",
   "metadata": {
    "collapsed": true
   },
   "source": [
    "* Use the dow_births() function to return the day-of-week totals for the dataset and assign the result to cdc_day_births. Display the dictionary."
   ]
  },
  {
   "cell_type": "code",
   "execution_count": 11,
   "metadata": {
    "collapsed": false
   },
   "outputs": [
    {
     "name": "stdout",
     "output_type": "stream",
     "text": [
      "{1: 5789166, 2: 6446196, 3: 6322855, 4: 6288429, 5: 6233657, 6: 4562111, 7: 4079723}\n"
     ]
    }
   ],
   "source": [
    "cdc_day_births = dow_births(cdc_list)\n",
    "print(cdc_day_births)"
   ]
  },
  {
   "cell_type": "markdown",
   "metadata": {},
   "source": [
    "# Creating A More General Function"
   ]
  },
  {
   "cell_type": "markdown",
   "metadata": {},
   "source": [
    "* Create a function named calc_counts() that:\n",
    "    - Takes two, required parameters:\n",
    "        + data: a list of lists\n",
    "        + column: the column number we want to calculate the totals for\n",
    "    - Populates and returns a dictionary containing the total number of births for each unique value in the column at position column."
   ]
  },
  {
   "cell_type": "code",
   "execution_count": 26,
   "metadata": {
    "collapsed": false
   },
   "outputs": [],
   "source": [
    "def calc_counts(data, column):\n",
    "    total_num_births_at_column = {}\n",
    "    for element in data:\n",
    "        births = element[4]\n",
    "        if element[column] in total_num_births_at_column:\n",
    "            total_num_births_at_column[element[column]] = total_num_births_at_column[element[column]] + births \n",
    "        else:\n",
    "            total_num_births_at_column[element[column]] = births\n",
    "    return total_num_births_at_column\n",
    "\n",
    "############### notes // scratchpad below ##############\n",
    "\n",
    "#         # element 1 is year (index 0)\n",
    "#         year = element[0]\n",
    "#         # element 2 is month (index 1)\n",
    "#         month = element[1]\n",
    "#         # element 3 is date of month (index 2)\n",
    "#         date_of_month = element[2]\n",
    "#         # element 4 is day of week (index 3)\n",
    "#         day_of_week = element[3]\n",
    "#         # element 5 is births (index 4)\n",
    "                \n",
    "        #elif column == month:\n",
    "        \n",
    "        ## Figure out how to make an efficient else-if loop\n",
    "\n",
    "        \n",
    "        ## Notes: if total_num_births_at_column[column] == *element*\n",
    "        ##            if *element* in total_num_births_at_column\n",
    "        ##                Follow code in above cells\n",
    "        \n",
    "        \n",
    "        "
   ]
  },
  {
   "cell_type": "markdown",
   "metadata": {},
   "source": [
    "* Use the calc_counts() function to:\n",
    "\n",
    "    - Return the yearly totals for the dataset and assign the result to cdc_year_births.\n",
    "    \n",
    "    - Return the monthly totals for the dataset and assign the result to cdc_month_births.\n",
    "    \n",
    "    - Return the day-of-month totals for the dataset and assign the result to cdc_dom_births.\n",
    "    \n",
    "    - Return the day-of-week totals for the dataset and assign the result to cdc_dow_births."
   ]
  },
  {
   "cell_type": "code",
   "execution_count": 22,
   "metadata": {
    "collapsed": false
   },
   "outputs": [
    {
     "data": {
      "text/plain": [
       "{1994: 3952767,\n",
       " 1995: 3899589,\n",
       " 1996: 3891494,\n",
       " 1997: 3880894,\n",
       " 1998: 3941553,\n",
       " 1999: 3959417,\n",
       " 2000: 4058814,\n",
       " 2001: 4025933,\n",
       " 2002: 4021726,\n",
       " 2003: 4089950}"
      ]
     },
     "execution_count": 22,
     "metadata": {},
     "output_type": "execute_result"
    }
   ],
   "source": [
    "cdc_year_births = calc_counts(cdc_list, 0)\n",
    "cdc_year_births\n"
   ]
  },
  {
   "cell_type": "code",
   "execution_count": 23,
   "metadata": {
    "collapsed": false
   },
   "outputs": [
    {
     "data": {
      "text/plain": [
       "{1: 3232517,\n",
       " 2: 3018140,\n",
       " 3: 3322069,\n",
       " 4: 3185314,\n",
       " 5: 3350907,\n",
       " 6: 3296530,\n",
       " 7: 3498783,\n",
       " 8: 3525858,\n",
       " 9: 3439698,\n",
       " 10: 3378814,\n",
       " 11: 3171647,\n",
       " 12: 3301860}"
      ]
     },
     "execution_count": 23,
     "metadata": {},
     "output_type": "execute_result"
    }
   ],
   "source": [
    "cdc_month_births = calc_counts(cdc_list, 1)\n",
    "cdc_month_births\n"
   ]
  },
  {
   "cell_type": "code",
   "execution_count": 24,
   "metadata": {
    "collapsed": false
   },
   "outputs": [
    {
     "data": {
      "text/plain": [
       "{1: 1276557,\n",
       " 2: 1288739,\n",
       " 3: 1304499,\n",
       " 4: 1288154,\n",
       " 5: 1299953,\n",
       " 6: 1304474,\n",
       " 7: 1310459,\n",
       " 8: 1312297,\n",
       " 9: 1303292,\n",
       " 10: 1320764,\n",
       " 11: 1314361,\n",
       " 12: 1318437,\n",
       " 13: 1277684,\n",
       " 14: 1320153,\n",
       " 15: 1319171,\n",
       " 16: 1315192,\n",
       " 17: 1324953,\n",
       " 18: 1326855,\n",
       " 19: 1318727,\n",
       " 20: 1324821,\n",
       " 21: 1322897,\n",
       " 22: 1317381,\n",
       " 23: 1293290,\n",
       " 24: 1288083,\n",
       " 25: 1272116,\n",
       " 26: 1284796,\n",
       " 27: 1294395,\n",
       " 28: 1307685,\n",
       " 29: 1223161,\n",
       " 30: 1202095,\n",
       " 31: 746696}"
      ]
     },
     "execution_count": 24,
     "metadata": {},
     "output_type": "execute_result"
    }
   ],
   "source": [
    "cdc_dom_births = calc_counts(cdc_list, 2)\n",
    "cdc_dom_births\n"
   ]
  },
  {
   "cell_type": "code",
   "execution_count": 25,
   "metadata": {
    "collapsed": false
   },
   "outputs": [
    {
     "data": {
      "text/plain": [
       "{1: 5789166,\n",
       " 2: 6446196,\n",
       " 3: 6322855,\n",
       " 4: 6288429,\n",
       " 5: 6233657,\n",
       " 6: 4562111,\n",
       " 7: 4079723}"
      ]
     },
     "execution_count": 25,
     "metadata": {},
     "output_type": "execute_result"
    }
   ],
   "source": [
    "cdc_dow_births = calc_counts(cdc_list, 3)\n",
    "cdc_dow_births"
   ]
  }
 ],
 "metadata": {
  "anaconda-cloud": {},
  "kernelspec": {
   "display_name": "Python 3",
   "language": "python",
   "name": "python3"
  },
  "language_info": {
   "codemirror_mode": {
    "name": "ipython",
    "version": 3
   },
   "file_extension": ".py",
   "mimetype": "text/x-python",
   "name": "python",
   "nbconvert_exporter": "python",
   "pygments_lexer": "ipython3",
   "version": "3.4.3"
  }
 },
 "nbformat": 4,
 "nbformat_minor": 1
}
